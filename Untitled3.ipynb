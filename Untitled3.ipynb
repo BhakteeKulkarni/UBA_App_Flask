{
 "cells": [
  {
   "cell_type": "code",
   "execution_count": 2,
   "id": "a4547d88-b803-4fbd-b056-c13ac720a664",
   "metadata": {},
   "outputs": [
    {
     "name": "stdin",
     "output_type": "stream",
     "text": [
      "Enter cooking usage in litres:  12\n",
      "Enter bathing usage in litres:  15\n",
      "Enter drinking usage in litres:  5\n",
      "Enter washing usage in litres:  30\n",
      "Enter other usage in litres:  25\n"
     ]
    },
    {
     "name": "stdout",
     "output_type": "stream",
     "text": [
      "Predicted Water Usage Category: Low\n",
      "Recommended actions: Recommendations for Low water usage\n"
     ]
    }
   ],
   "source": [
    "# Import necessary libraries\n",
    "import pandas as pd\n",
    "from sklearn.naive_bayes import GaussianNB\n",
    "\n",
    "# Create a function to get recommendations based on Water_Usage_Category\n",
    "def get_recommendations(Water_Usage_Category):\n",
    "    if Water_Usage_Category == 0:\n",
    "        return \"Recommendations for Low water usage\"\n",
    "    elif Water_Usage_Category == 1:\n",
    "        return \"Recommendations for Normal water usage\"\n",
    "    elif Water_Usage_Category == 2:\n",
    "        return \"Recommendations for High water usage\"\n",
    "\n",
    "# Get user input for water usage\n",
    "cooking_usage_litres = float(input(\"Enter cooking usage in litres: \"))\n",
    "bathing_usage_litres = float(input(\"Enter bathing usage in litres: \"))\n",
    "drinking_usage_litres = float(input(\"Enter drinking usage in litres: \"))\n",
    "washing_usage_litres = float(input(\"Enter washing usage in litres: \"))\n",
    "other_usage_litres = float(input(\"Enter other usage in litres: \"))\n",
    "\n",
    "# Calculate total usage litres\n",
    "total_usage_litres = cooking_usage_litres + bathing_usage_litres + drinking_usage_litres + washing_usage_litres + other_usage_litres\n",
    "\n",
    "# Create a DataFrame with the user input\n",
    "user_data = pd.DataFrame({\n",
    "    'cooking_usage_litres': [cooking_usage_litres],\n",
    "    'bathing_usage_litres': [bathing_usage_litres],\n",
    "    'drinking_usage_litres': [drinking_usage_litres],\n",
    "    'washing_usage_litres': [washing_usage_litres],\n",
    "    'other_usage_litres': [other_usage_litres],\n",
    "    'total_usage_litres': [total_usage_litres]\n",
    "})\n",
    "\n",
    "# Load your dataset (replace 'your_dataset.csv' with the actual file name or path)\n",
    "df = pd.read_csv('Final_Dataset.csv')\n",
    "\n",
    "# Map Water_Usage_Category to numerical values\n",
    "df['Water_Usage_Category'] = df['Water_Usage_Category'].map({'Low': 0, 'Normal': 1, 'High': 2})\n",
    "\n",
    "# Split the dataset into features (X) and target variable (y)\n",
    "X = df[['total_usage_litres']]\n",
    "y = df['Water_Usage_Category']\n",
    "\n",
    "# Initialize the Naive Bayes model\n",
    "model = GaussianNB()\n",
    "\n",
    "# Fit the model on the entire dataset\n",
    "model.fit(X, y)\n",
    "\n",
    "\n",
    "# Make predictions for the user input\n",
    "predicted_category = model.predict(user_data[['total_usage_litres']])[0]\n",
    "\n",
    "# Map the numerical category back to the original labels\n",
    "predicted_category_label = {0: 'Low', 1: 'Normal', 2: 'High'}[predicted_category]\n",
    "\n",
    "# Get recommendations based on the predicted Water_Usage_Category\n",
    "recommendations = get_recommendations(predicted_category)\n",
    "\n",
    "# Print the predicted category and recommendations\n",
    "print(f'Predicted Water Usage Category: {predicted_category_label }')\n",
    "print(f'Recommended actions: {recommendations}')\n"
   ]
  },
  {
   "cell_type": "code",
   "execution_count": 31,
   "id": "2f1324c7-8eba-45d3-adbd-fe7d3aff0193",
   "metadata": {},
   "outputs": [
    {
     "name": "stdout",
     "output_type": "stream",
     "text": [
      "Accuracy: 100.00%\n",
      "Confusion Matrix:\n",
      "[[1563    0    0]\n",
      " [   0  685    0]\n",
      " [   0    0 1272]]\n",
      "Classification Report:\n",
      "              precision    recall  f1-score   support\n",
      "\n",
      "        High       1.00      1.00      1.00      1563\n",
      "         Low       1.00      1.00      1.00       685\n",
      "      Normal       1.00      1.00      1.00      1272\n",
      "\n",
      "    accuracy                           1.00      3520\n",
      "   macro avg       1.00      1.00      1.00      3520\n",
      "weighted avg       1.00      1.00      1.00      3520\n",
      "\n"
     ]
    }
   ],
   "source": [
    "from sklearn.metrics import accuracy_score, classification_report, confusion_matrix\n",
    "# Evaluate the model\n",
    "accuracy = accuracy_score(y_test, y_pred)\n",
    "confusion_mat = confusion_matrix(y_test, y_pred)\n",
    "classification_rep = classification_report(y_test, y_pred)\n",
    "\n",
    "# Print evaluation metrics\n",
    "print(f'Accuracy: {accuracy * 100:.2f}%')\n",
    "print('Confusion Matrix:')\n",
    "print(confusion_mat)\n",
    "print('Classification Report:')\n",
    "print(classification_rep)\n"
   ]
  },
  {
   "cell_type": "code",
   "execution_count": 11,
   "id": "a74a8b0f-6ce9-4e65-aad3-dedfef44fdcc",
   "metadata": {},
   "outputs": [],
   "source": [
    "import pickle\n",
    "# Save the model to a file using pickle\n",
    "with open('naive_bayes_model1.pkl', 'wb') as model_file:\n",
    "    pickle.dump(model, model_file)\n",
    "\n",
    "# Load the model from the file using pickle\n",
    "with open('naive_bayes_model1.pkl', 'rb') as model_file:\n",
    "    loaded_model = pickle.load(model_file)"
   ]
  },
  {
   "cell_type": "code",
   "execution_count": 3,
   "id": "cc8be247-75a6-46fa-857e-912ee16c5334",
   "metadata": {},
   "outputs": [
    {
     "name": "stdout",
     "output_type": "stream",
     "text": [
      "Requirement already satisfied: joblib in c:\\users\\deepk\\appdata\\local\\programs\\python\\python312\\lib\\site-packages (1.3.2)\n",
      "Note: you may need to restart the kernel to use updated packages.\n"
     ]
    }
   ],
   "source": [
    "pip install joblib"
   ]
  },
  {
   "cell_type": "code",
   "execution_count": null,
   "id": "b0f19039-c711-4ed0-b845-097903ac8e97",
   "metadata": {},
   "outputs": [],
   "source": []
  }
 ],
 "metadata": {
  "kernelspec": {
   "display_name": "Python 3 (ipykernel)",
   "language": "python",
   "name": "python3"
  },
  "language_info": {
   "codemirror_mode": {
    "name": "ipython",
    "version": 3
   },
   "file_extension": ".py",
   "mimetype": "text/x-python",
   "name": "python",
   "nbconvert_exporter": "python",
   "pygments_lexer": "ipython3",
   "version": "3.12.1"
  }
 },
 "nbformat": 4,
 "nbformat_minor": 5
}
